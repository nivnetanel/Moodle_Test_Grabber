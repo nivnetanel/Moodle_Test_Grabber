{
 "cells": [
  {
   "cell_type": "code",
   "execution_count": null,
   "metadata": {},
   "outputs": [],
   "source": [
    "# pip install webdriver-manager\n",
    "# pip install selenium"
   ]
  },
  {
   "cell_type": "code",
   "execution_count": null,
   "metadata": {},
   "outputs": [],
   "source": [
    "from selenium import webdriver\n",
    "import json\n",
    "from time import sleep\n",
    "\n",
    "chrome_options = webdriver.ChromeOptions()\n",
    "settings = {\n",
    "       \"recentDestinations\": [{\n",
    "            \"id\": \"Save as PDF\",\n",
    "            \"origin\": \"local\",\n",
    "            \"account\": \"\",\n",
    "        }],\n",
    "        \"selectedDestinationId\": \"Save as PDF\",\n",
    "        \"version\": 2\n",
    "    }\n",
    "prefs = {'printing.print_preview_sticky_settings.appState': json.dumps(settings),\n",
    "        'savefile.default_directory': r'C:\\Users\\nivne\\Downloads'} ############# Put Your Download Path Here\n",
    "        \n",
    "chrome_options.add_experimental_option('prefs', prefs)\n",
    "chrome_options.add_argument('--kiosk-printing')\n",
    "\n",
    "CHROMEDRIVER_PATH = r'C:\\Users\\nivne\\Desktop\\Projects\\SeatTaker\\chromedriver.exe'############# Download ChromeDriver (note your browser version) and put its path here \n"
   ]
  },
  {
   "cell_type": "code",
   "execution_count": null,
   "metadata": {},
   "outputs": [],
   "source": [
    "driver = webdriver.Chrome(chrome_options=chrome_options, executable_path=CHROMEDRIVER_PATH)\n",
    "\n",
    "driver.get('https://md.hit.ac.il/') ## Paste your moodle url here \n",
    "\n"
   ]
  },
  {
   "cell_type": "code",
   "execution_count": null,
   "metadata": {},
   "outputs": [],
   "source": [
    "\n",
    "username = driver.find_element_by_id('username')\n",
    "username.clear()\n",
    "username.send_keys('')       ## Your username\n",
    "sleep(1)\n",
    "\n",
    "password = driver.find_element_by_id('password')  \n",
    "password.clear()\n",
    "password.send_keys('')  ## Your password\n",
    "password.submit()\n",
    "sleep(1)\n",
    "\n",
    "\n",
    "sleep(5)"
   ]
  },
  {
   "cell_type": "code",
   "execution_count": null,
   "metadata": {},
   "outputs": [],
   "source": [
    "for i in range(3):\n",
    "    element = driver.get('https://md.hit.ac.il/')#Home Page\n",
    "    sleep(1)\n",
    "    element = driver.find_element_by_partial_link_text('אלגוריתמים 2').click()#Choose Course\n",
    "    sleep(1)\n",
    "    element = driver.find_element_by_partial_link_text('BIG TEST').click()#Choose Test\n",
    "    sleep(1)\n",
    "    element = driver.find_element_by_xpath('//button[normalize-space()=\"התחלת ניסיון מענה חדש של הבוחן\"]').click()#Restart Test\n",
    "    sleep(5)\n",
    "    element = driver.find_element_by_partial_link_text('סיום הבוחן...').click()#Finish\n",
    "    sleep(1)\n",
    "    element = driver.find_element_by_xpath('//button[normalize-space()=\"הגשה סופית, וסיום ניסיון המענה\"]')#Final\n",
    "    sleep(1)\n",
    "    element = driver.find_element_by_xpath('//button[normalize-space()=\"הגשה סופית, וסיום ניסיון המענה\"]')#Final    \n",
    "    sleep(1)\n",
    "    driver.execute_script('window.print();')\n",
    "    element = driver.get('https://md.hit.ac.il/')#Home Page\n",
    "    sleep(5)\n",
    "driver.quit()"
   ]
  },
  {
   "cell_type": "code",
   "execution_count": null,
   "metadata": {},
   "outputs": [],
   "source": []
  }
 ],
 "metadata": {
  "interpreter": {
   "hash": "15734280c6a910fd68abfa757fec3ca37e4955dd6a7a2f3dfb430978bebad93a"
  },
  "kernelspec": {
   "display_name": "Python 3.10.2 64-bit",
   "language": "python",
   "name": "python3"
  },
  "language_info": {
   "codemirror_mode": {
    "name": "ipython",
    "version": 3
   },
   "file_extension": ".py",
   "mimetype": "text/x-python",
   "name": "python",
   "nbconvert_exporter": "python",
   "pygments_lexer": "ipython3",
   "version": "3.10.2"
  },
  "orig_nbformat": 4
 },
 "nbformat": 4,
 "nbformat_minor": 2
}
